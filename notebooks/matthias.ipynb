{
 "cells": [
  {
   "cell_type": "code",
   "execution_count": null,
   "id": "8d6ee3a9",
   "metadata": {},
   "outputs": [],
   "source": [
    "import numpy as np\n",
    "import pandas as pd\n",
    "from datetime import datetime\n",
    "import os\n",
    "from google.cloud import bigquery"
   ]
  },
  {
   "cell_type": "code",
   "execution_count": null,
   "id": "8cfbc8ec",
   "metadata": {},
   "outputs": [],
   "source": [
    "cwd=os.getcwd()\n",
    "cwd"
   ]
  },
  {
   "cell_type": "code",
   "execution_count": null,
   "id": "819321e8",
   "metadata": {},
   "outputs": [],
   "source": [
    "os.chdir('..')"
   ]
  },
  {
   "cell_type": "code",
   "execution_count": null,
   "id": "57f7c653",
   "metadata": {},
   "outputs": [],
   "source": [
    "cwd=os.getcwd()\n",
    "cwd"
   ]
  },
  {
   "cell_type": "code",
   "execution_count": null,
   "id": "af3ed165",
   "metadata": {},
   "outputs": [],
   "source": [
    "os.environ[\"GOOGLE_APPLICATION_CREDENTIALS\"] = cwd + '/GCP.json'"
   ]
  },
  {
   "cell_type": "code",
   "execution_count": null,
   "id": "46ee2ed5",
   "metadata": {},
   "outputs": [],
   "source": [
    "client = bigquery.Client()"
   ]
  },
  {
   "cell_type": "code",
   "execution_count": null,
   "id": "0d29bf21",
   "metadata": {},
   "outputs": [],
   "source": [
    "# Set your GCP project details\n",
    "project_id = \"lewagon-statistical-arbitrage\"\n",
    "dataset_id = \"FTSE_100_main\"  # Replace with your dataset name\n",
    "table_name = \"FTSE100_csv\"\n",
    "\n",
    "# Construct full table path\n",
    "table_id = f\"{project_id}.{dataset_id}.{table_name}\""
   ]
  },
  {
   "cell_type": "code",
   "execution_count": null,
   "id": "d094e869",
   "metadata": {},
   "outputs": [],
   "source": [
    "query = \"SELECT * FROM `lewagon-statistical-arbitrage.FTSE_100_main.FTSE100_csv` ORDER BY Unnamed_0 ASC\"\n",
    "FTSE100 = client.query(query).to_dataframe()"
   ]
  },
  {
   "cell_type": "code",
   "execution_count": null,
   "id": "00355371",
   "metadata": {},
   "outputs": [],
   "source": [
    "print(FTSE100)"
   ]
  },
  {
   "cell_type": "code",
   "execution_count": null,
   "id": "e7b4ce1d",
   "metadata": {},
   "outputs": [],
   "source": [
    "daily_weight = pd.read_csv(cwd + \"/data/daily_weights.csv\")"
   ]
  },
  {
   "cell_type": "code",
   "execution_count": null,
   "id": "c255bbfd",
   "metadata": {},
   "outputs": [],
   "source": [
    "from google.cloud import storage\n",
    "import pandas as pd\n",
    "import io\n",
    "import os\n",
    "from sklearn.decomposition import PCA\n",
    "from sklearn.preprocessing import StandardScaler\n",
    "\n",
    "class Frame:\n",
    "    def dataset(self):\n",
    "        print('Fetching and Merging...')\n",
    "        #os.environ[\"GOOGLE_APPLICATION_CREDENTIALS\"] = \"lewagon-statistical-arbitrage-ae470f7dcd48.json\"\n",
    "        client = storage.Client()\n",
    "        bucket = client.get_bucket('stat_arb')\n",
    "        rename_dict = {\n",
    "                        'Unnamed: 0': 'date',\n",
    "                        '1. open': 'open',\n",
    "                        '2. high': 'high',\n",
    "                        '3. low': 'low',\n",
    "                        '4. close': 'close',\n",
    "                        '5. volume': 'volume'\n",
    "                    }\n",
    "        expected_columns = list(rename_dict.values())\n",
    "        folder_prefix = \"FTSE_100/\"\n",
    "        blobs = bucket.list_blobs(prefix=folder_prefix)\n",
    "        dataframes = []\n",
    "\n",
    "        for blob in blobs:\n",
    "            if blob.name.endswith('.csv'):\n",
    "                content = blob.download_as_string()\n",
    "                if content.strip():\n",
    "                    try:\n",
    "                        df = pd.read_csv(io.StringIO(content.decode('utf-8')), sep=None, engine='python')\n",
    "                        df = df.rename(columns=rename_dict)\n",
    "                        df = df.loc[:, df.columns.intersection(expected_columns)]\n",
    "                        stk=blob.name.split('/')[1]\n",
    "                        df['source_file']=stk.split('.')[0]\n",
    "                        dataframes.append(df)\n",
    "\n",
    "                    except pd.errors.EmptyDataError:\n",
    "                        print(f\"Skipping empty file: {blob.name}\")\n",
    "                else:\n",
    "                    print(f\"Skipping empty file: {blob.name}\")\n",
    "\n",
    "        if dataframes:\n",
    "            merged_df = pd.concat(dataframes, ignore_index=True)\n",
    "            print(\"Merging completed successfully!\")\n",
    "        else:\n",
    "            print(\"No valid CSV files found.\")\n",
    "        print('Started prepocessing....')\n",
    "        merged_df['date'] = pd.to_datetime(merged_df['date'],format='mixed')\n",
    "\n",
    "        df_modified = merged_df[['date', 'source_file', 'close']].copy()\n",
    "        df_modified['source_file'] = df_modified['source_file'].str.split('/').str[-1].str.replace('.csv', '')\n",
    "        df_pivoted = df_modified.pivot_table(index='date', columns='source_file', values='close')\n",
    "        df_pivoted.reset_index(inplace=True)\n",
    "\n",
    "        df_latest=df_pivoted[df_pivoted['date']>'2022-01-31']\n",
    "        #dropping as nan are less than 5 for approx. five stocks and 1 stock is  117 nan\n",
    "        df_latest.dropna(inplace=True)\n",
    "        # df_numeric = df_latest.drop(columns=['date'])\n",
    "        print('Completed prepocessing.')\n",
    "        return df_latest\n",
    "\n",
    "data=Frame()\n",
    "stock_price = data.dataset()"
   ]
  },
  {
   "cell_type": "code",
   "execution_count": null,
   "id": "31eb0384",
   "metadata": {},
   "outputs": [],
   "source": [
    "daily_weight = daily_weight.rename(columns = lambda x : str(x)[:-2])"
   ]
  },
  {
   "cell_type": "code",
   "execution_count": null,
   "id": "d5e7a87b",
   "metadata": {},
   "outputs": [],
   "source": [
    "daily_weight = daily_weight.rename(columns={'Da': 'date'})"
   ]
  },
  {
   "cell_type": "code",
   "execution_count": null,
   "id": "d8dcd82d",
   "metadata": {},
   "outputs": [],
   "source": [
    "daily_weight[\"date\"] = pd.to_datetime(daily_weight[\"date\"])"
   ]
  },
  {
   "cell_type": "code",
   "execution_count": null,
   "id": "d4cb2050",
   "metadata": {},
   "outputs": [],
   "source": [
    "daily_weight"
   ]
  },
  {
   "cell_type": "code",
   "execution_count": null,
   "id": "77e2a845",
   "metadata": {},
   "outputs": [],
   "source": [
    "daily_weight[['date']]"
   ]
  },
  {
   "cell_type": "code",
   "execution_count": null,
   "id": "0f3e0141",
   "metadata": {},
   "outputs": [],
   "source": [
    "stock_aligned = daily_weight[['date']].merge(stock_price, on='date')"
   ]
  },
  {
   "cell_type": "code",
   "execution_count": null,
   "id": "74581bde",
   "metadata": {},
   "outputs": [],
   "source": [
    "weight_aligned = stock_aligned[[\"date\"]].merge(daily_weight,on=\"date\")"
   ]
  },
  {
   "cell_type": "code",
   "execution_count": null,
   "id": "c1f32be7",
   "metadata": {},
   "outputs": [],
   "source": [
    "weight_aligned.set_index(\"date\",inplace=True)"
   ]
  },
  {
   "cell_type": "code",
   "execution_count": null,
   "id": "88f0afea",
   "metadata": {},
   "outputs": [],
   "source": [
    "stock_aligned.set_index(\"date\",inplace=True)"
   ]
  },
  {
   "cell_type": "code",
   "execution_count": null,
   "id": "e1cbf60c",
   "metadata": {},
   "outputs": [],
   "source": [
    "for name in stock_aligned.columns:\n",
    "  if name not in weight_aligned.columns:\n",
    "    stock_aligned.drop(name,axis=1,inplace=True)"
   ]
  },
  {
   "cell_type": "code",
   "execution_count": null,
   "id": "d7f3b177",
   "metadata": {},
   "outputs": [],
   "source": [
    "FTSE100.rename(columns={'Unnamed_0': 'Date',\"close\": \"FTSE price\"}, inplace=True)\n",
    "\n",
    "FTSE100.set_index('Date', inplace=True)\n",
    "\n",
    "FTSE100_close_price = pd.DataFrame(FTSE100[\"FTSE price\"])\n",
    "\n",
    "FTSE100_close_price"
   ]
  },
  {
   "cell_type": "code",
   "execution_count": null,
   "id": "35f76dcd",
   "metadata": {},
   "outputs": [],
   "source": [
    "FTSE100_close_price.index = pd.to_datetime(FTSE100_close_price.index)"
   ]
  },
  {
   "cell_type": "code",
   "execution_count": null,
   "id": "52adbac5",
   "metadata": {},
   "outputs": [],
   "source": [
    "investment_aligned=weight_aligned.join(FTSE100_close_price)"
   ]
  },
  {
   "cell_type": "code",
   "execution_count": null,
   "id": "f5d0b75c",
   "metadata": {},
   "outputs": [],
   "source": [
    "replication_aligned = weight_aligned.mul(investment_aligned['FTSE price'], axis=0)\n",
    "replication_aligned.sum(axis=1)"
   ]
  },
  {
   "cell_type": "code",
   "execution_count": null,
   "id": "7de42774",
   "metadata": {},
   "outputs": [],
   "source": [
    "weight_position = replication_aligned/stock_aligned"
   ]
  },
  {
   "cell_type": "code",
   "execution_count": null,
   "id": "4e30aed5",
   "metadata": {},
   "outputs": [],
   "source": [
    "trading_length=90\n",
    "entry_point=60"
   ]
  },
  {
   "cell_type": "code",
   "execution_count": null,
   "id": "d3b97f4d",
   "metadata": {},
   "outputs": [],
   "source": [
    "replication=[]\n",
    "replications_df=pd.DataFrame(columns=range(trading_length), dtype=float)"
   ]
  },
  {
   "cell_type": "code",
   "execution_count": null,
   "id": "b1d887a8",
   "metadata": {},
   "outputs": [],
   "source": [
    "for i,r in weight_position.reset_index().iterrows():\n",
    "  if i < (len(weight_position) - trading_length):\n",
    "    try_1 = r * stock_aligned.iloc[i:i+trading_length]\n",
    "    replication_index=pd.DataFrame(try_1.sum(axis=1).reset_index(drop=True))\n",
    "    replications_df=pd.concat([replications_df,replication_index.T], axis=0)"
   ]
  },
  {
   "cell_type": "code",
   "execution_count": null,
   "id": "d6d757d8",
   "metadata": {},
   "outputs": [],
   "source": [
    "replications_df.index=weight_position.index[:-trading_length]"
   ]
  },
  {
   "cell_type": "code",
   "execution_count": null,
   "id": "9f06d662",
   "metadata": {},
   "outputs": [],
   "source": [
    "replications_df.columns=[f'Day {i+1}' for i in range(trading_length)]"
   ]
  },
  {
   "cell_type": "code",
   "execution_count": null,
   "id": "3f309594",
   "metadata": {},
   "outputs": [],
   "source": [
    "replications_df=replications_df.astype(float)"
   ]
  },
  {
   "cell_type": "code",
   "execution_count": null,
   "id": "859c2eaf",
   "metadata": {},
   "outputs": [],
   "source": [
    "FTSE_match=[]\n",
    "FTSE_match_df=pd.DataFrame(columns=range(trading_length))"
   ]
  },
  {
   "cell_type": "code",
   "execution_count": null,
   "id": "0718ecc7",
   "metadata": {},
   "outputs": [],
   "source": [
    "for i,r in weight_position.reset_index().iterrows():\n",
    "  if i < (len(weight_position) - trading_length):\n",
    "    FTSE_match=pd.DataFrame(investment_aligned[['FTSE price']].iloc[i:i+trading_length].reset_index(drop=True))\n",
    "    FTSE_match_df=pd.concat([FTSE_match_df,FTSE_match.T], axis=0)"
   ]
  },
  {
   "cell_type": "code",
   "execution_count": null,
   "id": "3d8cf642",
   "metadata": {},
   "outputs": [],
   "source": [
    "FTSE_match_df.index=weight_position.index[:-trading_length]\n",
    "FTSE_match_df.columns=[f'Day {i+1}' for i in range(trading_length)]"
   ]
  },
  {
   "cell_type": "code",
   "execution_count": null,
   "id": "44b63793",
   "metadata": {},
   "outputs": [],
   "source": [
    "FTSE_log_returns=np.log(FTSE_match_df/FTSE_match_df.shift(1, axis=1))"
   ]
  },
  {
   "cell_type": "code",
   "execution_count": null,
   "id": "d98ff6bb",
   "metadata": {},
   "outputs": [],
   "source": [
    "replications_log_returns=np.log(replications_df/replications_df.shift(1, axis=1))"
   ]
  },
  {
   "cell_type": "code",
   "execution_count": null,
   "id": "795f5881",
   "metadata": {},
   "outputs": [],
   "source": [
    "#assessment after entry_point days"
   ]
  },
  {
   "cell_type": "code",
   "execution_count": null,
   "id": "f074eeb2",
   "metadata": {},
   "outputs": [],
   "source": [
    "spread_change=FTSE_log_returns-replications_log_returns"
   ]
  },
  {
   "cell_type": "code",
   "execution_count": null,
   "id": "50efb4a5",
   "metadata": {},
   "outputs": [],
   "source": [
    "spread_mean=spread_change.iloc[:,:entry_point-1].mean(axis=1)"
   ]
  },
  {
   "cell_type": "code",
   "execution_count": null,
   "id": "0db0a858",
   "metadata": {},
   "outputs": [],
   "source": [
    "spread_vol=spread_change.iloc[:,:entry_point-1].std(axis=1)"
   ]
  },
  {
   "cell_type": "code",
   "execution_count": null,
   "id": "fee4010d",
   "metadata": {},
   "outputs": [],
   "source": [
    "spread_vol"
   ]
  },
  {
   "cell_type": "code",
   "execution_count": 245,
   "id": "81e64748",
   "metadata": {},
   "outputs": [],
   "source": [
    "z_scores_df=pd.DataFrame((spread_change.iloc[:,entry_point]-spread_mean)/spread_vol, columns=['z_score'])"
   ]
  },
  {
   "cell_type": "code",
   "execution_count": 246,
   "id": "f65d9de7",
   "metadata": {},
   "outputs": [
    {
     "data": {
      "text/plain": [
       "date\n",
       "2022-07-15     True\n",
       "2022-07-18     True\n",
       "2022-07-19     True\n",
       "2022-07-20     True\n",
       "2022-07-21    False\n",
       "              ...  \n",
       "2024-10-23     True\n",
       "2024-10-24     True\n",
       "2024-10-25     True\n",
       "2024-10-28     True\n",
       "2024-10-29     True\n",
       "Name: z_score, Length: 578, dtype: bool"
      ]
     },
     "execution_count": 246,
     "metadata": {},
     "output_type": "execute_result"
    }
   ],
   "source": [
    "z_scores_df['z_score']>-1"
   ]
  },
  {
   "cell_type": "code",
   "execution_count": 247,
   "id": "dc8dd4ea",
   "metadata": {},
   "outputs": [],
   "source": [
    "pos_low_threshold=0.5\n",
    "pos_high_threshold=2\n",
    "neg_low_threshold=-2\n",
    "neg_high_threshold=-0.5"
   ]
  },
  {
   "cell_type": "code",
   "execution_count": 248,
   "id": "e1a97cd5",
   "metadata": {},
   "outputs": [],
   "source": [
    "for i, r in z_scores_df.iterrows():\n",
    "    if r['z_score'] > pos_low_threshold:\n",
    "        if r['z_score'] <pos_high_threshold:\n",
    "            z_scores_df.loc[i, 'direction']=-1\n",
    "        else:\n",
    "            z_scores_df.loc[i,'direction']=0\n",
    "    elif r['z_score'] > neg_low_threshold:\n",
    "        if r['z_score']<neg_high_threshold:\n",
    "            z_scores_df.loc[i, 'direction']=1\n",
    "        else: z_scores_df.loc[i, 'direction']=0"
   ]
  },
  {
   "cell_type": "code",
   "execution_count": 257,
   "id": "544e95df",
   "metadata": {},
   "outputs": [
    {
     "data": {
      "text/html": [
       "<div>\n",
       "<style scoped>\n",
       "    .dataframe tbody tr th:only-of-type {\n",
       "        vertical-align: middle;\n",
       "    }\n",
       "\n",
       "    .dataframe tbody tr th {\n",
       "        vertical-align: top;\n",
       "    }\n",
       "\n",
       "    .dataframe thead th {\n",
       "        text-align: right;\n",
       "    }\n",
       "</style>\n",
       "<table border=\"1\" class=\"dataframe\">\n",
       "  <thead>\n",
       "    <tr style=\"text-align: right;\">\n",
       "      <th></th>\n",
       "      <th>z_score</th>\n",
       "      <th>direction</th>\n",
       "    </tr>\n",
       "    <tr>\n",
       "      <th>date</th>\n",
       "      <th></th>\n",
       "      <th></th>\n",
       "    </tr>\n",
       "  </thead>\n",
       "  <tbody>\n",
       "    <tr>\n",
       "      <th>2022-07-15</th>\n",
       "      <td>-0.334534</td>\n",
       "      <td>0.0</td>\n",
       "    </tr>\n",
       "    <tr>\n",
       "      <th>2022-07-18</th>\n",
       "      <td>0.608562</td>\n",
       "      <td>-1.0</td>\n",
       "    </tr>\n",
       "    <tr>\n",
       "      <th>2022-07-19</th>\n",
       "      <td>-0.726178</td>\n",
       "      <td>1.0</td>\n",
       "    </tr>\n",
       "    <tr>\n",
       "      <th>2022-07-20</th>\n",
       "      <td>0.708542</td>\n",
       "      <td>-1.0</td>\n",
       "    </tr>\n",
       "    <tr>\n",
       "      <th>2022-07-21</th>\n",
       "      <td>-1.073585</td>\n",
       "      <td>1.0</td>\n",
       "    </tr>\n",
       "    <tr>\n",
       "      <th>...</th>\n",
       "      <td>...</td>\n",
       "      <td>...</td>\n",
       "    </tr>\n",
       "    <tr>\n",
       "      <th>2024-10-23</th>\n",
       "      <td>0.402829</td>\n",
       "      <td>0.0</td>\n",
       "    </tr>\n",
       "    <tr>\n",
       "      <th>2024-10-24</th>\n",
       "      <td>-0.208522</td>\n",
       "      <td>0.0</td>\n",
       "    </tr>\n",
       "    <tr>\n",
       "      <th>2024-10-25</th>\n",
       "      <td>-0.423520</td>\n",
       "      <td>0.0</td>\n",
       "    </tr>\n",
       "    <tr>\n",
       "      <th>2024-10-28</th>\n",
       "      <td>0.829658</td>\n",
       "      <td>-1.0</td>\n",
       "    </tr>\n",
       "    <tr>\n",
       "      <th>2024-10-29</th>\n",
       "      <td>-0.303804</td>\n",
       "      <td>0.0</td>\n",
       "    </tr>\n",
       "  </tbody>\n",
       "</table>\n",
       "<p>578 rows × 2 columns</p>\n",
       "</div>"
      ],
      "text/plain": [
       "             z_score  direction\n",
       "date                           \n",
       "2022-07-15 -0.334534        0.0\n",
       "2022-07-18  0.608562       -1.0\n",
       "2022-07-19 -0.726178        1.0\n",
       "2022-07-20  0.708542       -1.0\n",
       "2022-07-21 -1.073585        1.0\n",
       "...              ...        ...\n",
       "2024-10-23  0.402829        0.0\n",
       "2024-10-24 -0.208522        0.0\n",
       "2024-10-25 -0.423520        0.0\n",
       "2024-10-28  0.829658       -1.0\n",
       "2024-10-29 -0.303804        0.0\n",
       "\n",
       "[578 rows x 2 columns]"
      ]
     },
     "execution_count": 257,
     "metadata": {},
     "output_type": "execute_result"
    }
   ],
   "source": [
    "z_scores_df"
   ]
  },
  {
   "cell_type": "code",
   "execution_count": 285,
   "id": "d7ed9259",
   "metadata": {},
   "outputs": [],
   "source": [
    "z_scores_df['entry']=spread_change.iloc[:,entry_point]"
   ]
  },
  {
   "cell_type": "code",
   "execution_count": 286,
   "id": "368ea783",
   "metadata": {},
   "outputs": [],
   "source": [
    "z_scores_df['exit']=spread_change.iloc[:,trading_length-1]"
   ]
  },
  {
   "cell_type": "code",
   "execution_count": 288,
   "id": "0d4e962b",
   "metadata": {},
   "outputs": [],
   "source": [
    "z_scores_df['result']=(-z_scores_df['entry']+z_scores_df['exit'])*z_scores_df['direction']"
   ]
  },
  {
   "cell_type": "code",
   "execution_count": 290,
   "id": "21ef9154",
   "metadata": {},
   "outputs": [
    {
     "data": {
      "text/plain": [
       "np.float64(1.8357152154801994)"
      ]
     },
     "execution_count": 290,
     "metadata": {},
     "output_type": "execute_result"
    }
   ],
   "source": [
    "z_scores_df['result'].sum()"
   ]
  }
 ],
 "metadata": {
  "kernelspec": {
   "display_name": "stockify_env",
   "language": "python",
   "name": "python3"
  },
  "language_info": {
   "codemirror_mode": {
    "name": "ipython",
    "version": 3
   },
   "file_extension": ".py",
   "mimetype": "text/x-python",
   "name": "python",
   "nbconvert_exporter": "python",
   "pygments_lexer": "ipython3",
   "version": "3.10.6"
  }
 },
 "nbformat": 4,
 "nbformat_minor": 5
}
