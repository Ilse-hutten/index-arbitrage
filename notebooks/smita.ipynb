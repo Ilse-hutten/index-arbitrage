{
 "cells": [
  {
   "cell_type": "code",
   "execution_count": null,
   "metadata": {
    "colab": {
     "base_uri": "https://localhost:8080/"
    },
    "id": "DdfiI0lcrruf",
    "outputId": "0b42e63f-eb63-4e39-a341-da20464a9a99",
    "scrolled": true
   },
   "outputs": [],
   "source": [
    "!pip install google-cloud-storage\n"
   ]
  },
  {
   "cell_type": "code",
   "execution_count": 1,
   "metadata": {},
   "outputs": [
    {
     "name": "stdout",
     "output_type": "stream",
     "text": [
      "Fetching and Merging...\n",
      "Merging completed successfully!\n",
      "Started prepocessing....\n"
     ]
    },
    {
     "name": "stderr",
     "output_type": "stream",
     "text": [
      "/home/sb/lewagon_london/project_lewagon/stock-stat-replica/app/frame.py:58: SettingWithCopyWarning: \n",
      "A value is trying to be set on a copy of a slice from a DataFrame\n",
      "\n",
      "See the caveats in the documentation: https://pandas.pydata.org/pandas-docs/stable/user_guide/indexing.html#returning-a-view-versus-a-copy\n",
      "  df_latest.drop(columns='HLN',inplace=True)\n",
      "/home/sb/lewagon_london/project_lewagon/stock-stat-replica/app/frame.py:59: FutureWarning: DataFrame.fillna with 'method' is deprecated and will raise in a future version. Use obj.ffill() or obj.bfill() instead.\n",
      "  df_latest=df_latest.fillna(method='ffill')\n"
     ]
    },
    {
     "name": "stdout",
     "output_type": "stream",
     "text": [
      "Completed prepocessing.\n",
      "Fetching and Merging...\n",
      "Merging completed successfully!\n",
      "Started prepocessing....\n",
      "Completed prepocessing.\n"
     ]
    },
    {
     "name": "stderr",
     "output_type": "stream",
     "text": [
      "/home/sb/lewagon_london/project_lewagon/stock-stat-replica/app/frame.py:58: SettingWithCopyWarning: \n",
      "A value is trying to be set on a copy of a slice from a DataFrame\n",
      "\n",
      "See the caveats in the documentation: https://pandas.pydata.org/pandas-docs/stable/user_guide/indexing.html#returning-a-view-versus-a-copy\n",
      "  df_latest.drop(columns='HLN',inplace=True)\n",
      "/home/sb/lewagon_london/project_lewagon/stock-stat-replica/app/frame.py:59: FutureWarning: DataFrame.fillna with 'method' is deprecated and will raise in a future version. Use obj.ffill() or obj.bfill() instead.\n",
      "  df_latest=df_latest.fillna(method='ffill')\n"
     ]
    }
   ],
   "source": [
    "import sys\n",
    "import os\n",
    "\n",
    "# Get the absolute path of the 'app' folder\n",
    "sys.path.append(os.path.abspath('../app'))\n",
    "\n",
    "# Now import Frame from frame.py\n",
    "from frame import Frame\n",
    "\n",
    "# Create an instance and call dataset()\n",
    "data = Frame()\n",
    "df = data.dataset()\n"
   ]
  },
  {
   "cell_type": "code",
   "execution_count": 3,
   "metadata": {},
   "outputs": [],
   "source": [
    "# df['HLN']"
   ]
  },
  {
   "cell_type": "code",
   "execution_count": null,
   "metadata": {},
   "outputs": [],
   "source": [
    "df.isna().sum().sort_values(ascending=True)"
   ]
  },
  {
   "cell_type": "code",
   "execution_count": null,
   "metadata": {},
   "outputs": [],
   "source": [
    "df['date'].value_counts(ascending=False)"
   ]
  },
  {
   "cell_type": "code",
   "execution_count": null,
   "metadata": {
    "id": "uAGJJNNwrwyO"
   },
   "outputs": [],
   "source": [
    "from google.cloud import storage\n",
    "import pandas as pd\n",
    "import io\n",
    "import os\n",
    "from sklearn.decomposition import PCA\n",
    "from sklearn.preprocessing import StandardScaler\n"
   ]
  },
  {
   "cell_type": "code",
   "execution_count": null,
   "metadata": {
    "id": "SXHkBtzCzNv_"
   },
   "outputs": [],
   "source": []
  },
  {
   "cell_type": "code",
   "execution_count": null,
   "metadata": {
    "colab": {
     "base_uri": "https://localhost:8080/",
     "height": 73
    },
    "id": "rwRfmA0pzG5X",
    "outputId": "a2f71d5b-9995-4211-d7dd-c5124250954c"
   },
   "outputs": [],
   "source": [
    "from google.colab import files\n",
    "\n",
    "uploaded = files.upload()  #upload credentials file"
   ]
  },
  {
   "cell_type": "code",
   "execution_count": null,
   "metadata": {
    "id": "E_8yKTBEzRGh"
   },
   "outputs": [],
   "source": [
    "filename = list(uploaded.keys())[0]\n",
    "os.environ[\"GOOGLE_APPLICATION_CREDENTIALS\"] = \"/content/\" + filename"
   ]
  },
  {
   "cell_type": "code",
   "execution_count": null,
   "metadata": {
    "id": "73SrSDzErw_m"
   },
   "outputs": [],
   "source": []
  },
  {
   "cell_type": "code",
   "execution_count": null,
   "metadata": {
    "id": "getL2LgNrxB6"
   },
   "outputs": [],
   "source": [
    "client = storage.Client()\n",
    "bucket = client.get_bucket('stat_arb')\n"
   ]
  },
  {
   "cell_type": "code",
   "execution_count": null,
   "metadata": {
    "id": "wHE2WFourxER"
   },
   "outputs": [],
   "source": []
  },
  {
   "cell_type": "code",
   "execution_count": null,
   "metadata": {
    "id": "C1KfUoZGrxHS"
   },
   "outputs": [],
   "source": [
    "rename_dict = {\n",
    "                    'Unnamed: 0': 'date',\n",
    "                    '1. open': 'open',\n",
    "                    '2. high': 'high',\n",
    "                    '3. low': 'low',\n",
    "                    '4. close': 'close',\n",
    "                    '5. volume': 'volume'\n",
    "                }"
   ]
  },
  {
   "cell_type": "code",
   "execution_count": null,
   "metadata": {
    "colab": {
     "base_uri": "https://localhost:8080/",
     "height": 458
    },
    "id": "ii7YU2uyrxLn",
    "outputId": "ce749779-a2aa-4a18-d4ed-96a8467ed789"
   },
   "outputs": [],
   "source": [
    "folder_prefix = \"FTSE_100/\"\n",
    "blobs = bucket.list_blobs(prefix=folder_prefix)\n",
    "dataframes = []\n",
    "\n",
    "for blob in blobs:\n",
    "    if blob.name.endswith('.csv'):\n",
    "        content = blob.download_as_string()\n",
    "        if content.strip():\n",
    "            try:\n",
    "                df = pd.read_csv(io.StringIO(content.decode('utf-8')), sep=None, engine='python')\n",
    "\n",
    "                df = df.rename(columns=rename_dict)\n",
    "                expected_columns = rename_dict.values()\n",
    "                df = df[[col for col in df.columns if col in expected_columns]]\n",
    "                stk=blob.name.split('/')[1]\n",
    "                df['source_file']=stk.split('.')[0]\n",
    "                dataframes.append(df)\n",
    "\n",
    "            except pd.errors.EmptyDataError:\n",
    "                print(f\"Skipping empty file: {blob.name}\")\n",
    "        else:\n",
    "            print(f\"Skipping empty file: {blob.name}\")\n",
    "\n",
    "if dataframes:\n",
    "    merged_df = pd.concat(dataframes, ignore_index=True)\n",
    "    print(\"Merging completed successfully!\")\n",
    "else:\n",
    "    print(\"No valid CSV files found.\")\n",
    "\n",
    "merged_df"
   ]
  },
  {
   "cell_type": "code",
   "execution_count": null,
   "metadata": {
    "id": "Y0UqUoTr5Bto"
   },
   "outputs": [],
   "source": [
    "merged_df['date'] = pd.to_datetime(merged_df['date'],format='mixed')\n"
   ]
  },
  {
   "cell_type": "code",
   "execution_count": null,
   "metadata": {
    "id": "Y4RmQO5NuzWO"
   },
   "outputs": [],
   "source": []
  },
  {
   "cell_type": "code",
   "execution_count": null,
   "metadata": {
    "colab": {
     "base_uri": "https://localhost:8080/",
     "height": 424
    },
    "id": "CUya79EfrxS8",
    "outputId": "0f432a41-759b-4e05-9e4f-5ce30a41bd21"
   },
   "outputs": [],
   "source": [
    "df_modified = merged_df[['date', 'source_file', 'open']].copy()\n",
    "df_modified['source_file'] = df_modified['source_file'].str.split('/').str[-1].str.replace('.csv', '')\n",
    "df_pivoted = df_modified.pivot_table(index='date', columns='source_file', values='open')\n",
    "df_pivoted.reset_index(inplace=True)\n",
    "\n",
    "df_pivoted"
   ]
  },
  {
   "cell_type": "code",
   "execution_count": null,
   "metadata": {
    "colab": {
     "base_uri": "https://localhost:8080/",
     "height": 424
    },
    "id": "2_pJrEqBcoNN",
    "outputId": "1645bc34-a603-4043-8022-a760b54fde71"
   },
   "outputs": [],
   "source": [
    "df_pivoted[df_pivoted['AAF'].isna()]"
   ]
  },
  {
   "cell_type": "code",
   "execution_count": null,
   "metadata": {
    "id": "EAfs1o-W-giX"
   },
   "outputs": [],
   "source": []
  },
  {
   "cell_type": "code",
   "execution_count": null,
   "metadata": {
    "id": "PHwiL1Ur-hGY"
   },
   "outputs": [],
   "source": [
    "df_latest=df_pivoted[df_pivoted['date']>'2022-01-31']"
   ]
  },
  {
   "cell_type": "code",
   "execution_count": null,
   "metadata": {
    "colab": {
     "base_uri": "https://localhost:8080/",
     "height": 490
    },
    "id": "t38KPiUfekuE",
    "outputId": "0c573218-1876-4441-de4a-91f24789426d"
   },
   "outputs": [],
   "source": [
    "df_latest.isna().sum()"
   ]
  },
  {
   "cell_type": "code",
   "execution_count": null,
   "metadata": {
    "colab": {
     "base_uri": "https://localhost:8080/"
    },
    "id": "OmvESjbcAqKS",
    "outputId": "36277892-0a82-4096-d277-3061a2015b8e"
   },
   "outputs": [],
   "source": [
    "# df_latest.dropna(inplace=True)"
   ]
  },
  {
   "cell_type": "code",
   "execution_count": null,
   "metadata": {
    "id": "js9P4JyFem7H"
   },
   "outputs": [],
   "source": [
    "df_numeric = df_latest.drop(columns=['date'])\n"
   ]
  },
  {
   "cell_type": "code",
   "execution_count": null,
   "metadata": {
    "id": "f59U2CkUrJBQ"
   },
   "outputs": [],
   "source": [
    "scaler = StandardScaler()\n",
    "df_scaled = scaler.fit_transform(df_numeric)"
   ]
  },
  {
   "cell_type": "code",
   "execution_count": null,
   "metadata": {
    "id": "cYxN0eVZrXHH"
   },
   "outputs": [],
   "source": [
    "pca = PCA(n_components=0.95)\n",
    "df_pca = pca.fit_transform(df_scaled)"
   ]
  },
  {
   "cell_type": "code",
   "execution_count": null,
   "metadata": {
    "id": "hM2uPXdL__gC"
   },
   "outputs": [],
   "source": []
  },
  {
   "cell_type": "code",
   "execution_count": null,
   "metadata": {
    "id": "reH6kyA3rgs7"
   },
   "outputs": [],
   "source": [
    "df_pca = pd.DataFrame(df_pca, columns=[f'PC{i+1}' for i in range(df_pca.shape[1])])\n"
   ]
  },
  {
   "cell_type": "code",
   "execution_count": null,
   "metadata": {
    "id": "a6od0VfsABxI"
   },
   "outputs": [],
   "source": []
  },
  {
   "cell_type": "code",
   "execution_count": null,
   "metadata": {
    "id": "40J_8ZVLADSI"
   },
   "outputs": [],
   "source": [
    "df_pca['date'] = df_latest['date'].values\n"
   ]
  },
  {
   "cell_type": "code",
   "execution_count": null,
   "metadata": {
    "colab": {
     "base_uri": "https://localhost:8080/",
     "height": 424
    },
    "id": "Ge5H7od6AMJJ",
    "outputId": "2330813a-c198-4336-9dfd-623b2bdcbcb1"
   },
   "outputs": [],
   "source": [
    "df_pca"
   ]
  },
  {
   "cell_type": "code",
   "execution_count": null,
   "metadata": {
    "colab": {
     "base_uri": "https://localhost:8080/"
    },
    "id": "3ALeGHC-BCMz",
    "outputId": "0f1f7717-731a-46e0-8904-e5d3a23e39aa"
   },
   "outputs": [],
   "source": [
    "print(\"Explained Variance Ratio:\", pca.explained_variance_ratio_)\n"
   ]
  },
  {
   "cell_type": "code",
   "execution_count": null,
   "metadata": {
    "id": "L4Tmy6HWBIEW"
   },
   "outputs": [],
   "source": []
  }
 ],
 "metadata": {
  "colab": {
   "provenance": []
  },
  "kernelspec": {
   "display_name": "Python 3 (ipykernel)",
   "language": "python",
   "name": "python3"
  },
  "language_info": {
   "codemirror_mode": {
    "name": "ipython",
    "version": 3
   },
   "file_extension": ".py",
   "mimetype": "text/x-python",
   "name": "python",
   "nbconvert_exporter": "python",
   "pygments_lexer": "ipython3",
   "version": "3.10.6"
  }
 },
 "nbformat": 4,
 "nbformat_minor": 4
}
