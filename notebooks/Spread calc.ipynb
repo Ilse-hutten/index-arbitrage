{
 "cells": [
  {
   "cell_type": "code",
   "execution_count": null,
   "id": "d7262d5e",
   "metadata": {},
   "outputs": [],
   "source": [
    "# SPREAD CODE:\n",
    "\n",
    "pca_date = '2024-12-01'\n",
    "\n",
    "# Filter stocks with values > 0 on the specific date\n",
    "filtered_columns = daily_weights_df.loc[pca_date][daily_weights_df.loc[pca_date] > 0].index\n",
    "# replication pf weights taken from output function\n",
    "rep_pf = daily_weights_df.loc[[pca_date], filtered_columns]\n",
    "\n",
    "# log returns of rep pf\n",
    "rep_pf_log_returns_daily = log_returns[rep_pf.columns]\n",
    "\n",
    "# log return times weights (results)\n",
    "rep_pf_results = rep_pf_log_returns_daily.mul(rep_pf.iloc[0], axis=1)\n",
    "rep_pf_results[\"total_rep_pf\"] = rep_pf_results.sum(axis=1)\n",
    "rep_pf_results\n",
    "\n",
    "# Calculate log returns FTSE100 / Index    \n",
    "FTSE_log_return = np.log(df[\"FTSE100\"] / df[\"FTSE100\"].shift(1)).dropna()\n",
    "FTSE_log_return\n",
    "\n",
    "# DF of spread\n",
    "spread_df = pd.DataFrame()  # Create a new DataFrame for the spread\n",
    "spread_df[\"spread\"] = FTSE_log_return - rep_pf_results[\"total_rep_pf\"]  # Add a column named \"spread\"\n",
    "training_spread_df = spread_df.loc[:pca_date].iloc[:-1]  # Data up to the PCA date, excluding the date itself"
   ]
  }
 ],
 "metadata": {
  "kernelspec": {
   "display_name": "Python 3 (ipykernel)",
   "language": "python",
   "name": "python3"
  },
  "language_info": {
   "codemirror_mode": {
    "name": "ipython",
    "version": 3
   },
   "file_extension": ".py",
   "mimetype": "text/x-python",
   "name": "python",
   "nbconvert_exporter": "python",
   "pygments_lexer": "ipython3",
   "version": "3.10.6"
  },
  "toc": {
   "base_numbering": 1,
   "nav_menu": {},
   "number_sections": true,
   "sideBar": true,
   "skip_h1_title": false,
   "title_cell": "Table of Contents",
   "title_sidebar": "Contents",
   "toc_cell": false,
   "toc_position": {},
   "toc_section_display": true,
   "toc_window_display": false
  }
 },
 "nbformat": 4,
 "nbformat_minor": 5
}
