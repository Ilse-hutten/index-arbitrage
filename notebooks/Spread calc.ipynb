{
 "cells": [
  {
   "cell_type": "code",
   "execution_count": 2,
   "id": "aec709ae-76ca-4024-97bf-3633ec7d2db9",
   "metadata": {
    "scrolled": true
   },
   "outputs": [
    {
     "name": "stdout",
     "output_type": "stream",
     "text": [
      "Requirement already satisfied: yfinance in /home/sb/.pyenv/versions/3.10.6/envs/stockify_env/lib/python3.10/site-packages (0.2.54)\n",
      "Requirement already satisfied: multitasking>=0.0.7 in /home/sb/.pyenv/versions/3.10.6/envs/stockify_env/lib/python3.10/site-packages (from yfinance) (0.0.11)\n",
      "Requirement already satisfied: numpy>=1.16.5 in /home/sb/.pyenv/versions/3.10.6/envs/stockify_env/lib/python3.10/site-packages (from yfinance) (2.1.3)\n",
      "Requirement already satisfied: frozendict>=2.3.4 in /home/sb/.pyenv/versions/3.10.6/envs/stockify_env/lib/python3.10/site-packages (from yfinance) (2.4.6)\n",
      "Requirement already satisfied: requests>=2.31 in /home/sb/.pyenv/versions/3.10.6/envs/stockify_env/lib/python3.10/site-packages (from yfinance) (2.32.3)\n",
      "Requirement already satisfied: platformdirs>=2.0.0 in /home/sb/.pyenv/versions/3.10.6/envs/stockify_env/lib/python3.10/site-packages (from yfinance) (4.3.6)\n",
      "Requirement already satisfied: pytz>=2022.5 in /home/sb/.pyenv/versions/3.10.6/envs/stockify_env/lib/python3.10/site-packages (from yfinance) (2025.1)\n",
      "Requirement already satisfied: peewee>=3.16.2 in /home/sb/.pyenv/versions/3.10.6/envs/stockify_env/lib/python3.10/site-packages (from yfinance) (3.17.9)\n",
      "Requirement already satisfied: beautifulsoup4>=4.11.1 in /home/sb/.pyenv/versions/3.10.6/envs/stockify_env/lib/python3.10/site-packages (from yfinance) (4.13.3)\n",
      "Requirement already satisfied: pandas>=1.3.0 in /home/sb/.pyenv/versions/3.10.6/envs/stockify_env/lib/python3.10/site-packages (from yfinance) (2.2.3)\n",
      "Requirement already satisfied: typing-extensions>=4.0.0 in /home/sb/.pyenv/versions/3.10.6/envs/stockify_env/lib/python3.10/site-packages (from beautifulsoup4>=4.11.1->yfinance) (4.12.2)\n",
      "Requirement already satisfied: soupsieve>1.2 in /home/sb/.pyenv/versions/3.10.6/envs/stockify_env/lib/python3.10/site-packages (from beautifulsoup4>=4.11.1->yfinance) (2.6)\n",
      "Requirement already satisfied: python-dateutil>=2.8.2 in /home/sb/.pyenv/versions/3.10.6/envs/stockify_env/lib/python3.10/site-packages (from pandas>=1.3.0->yfinance) (2.9.0.post0)\n",
      "Requirement already satisfied: tzdata>=2022.7 in /home/sb/.pyenv/versions/3.10.6/envs/stockify_env/lib/python3.10/site-packages (from pandas>=1.3.0->yfinance) (2025.1)\n",
      "Requirement already satisfied: charset-normalizer<4,>=2 in /home/sb/.pyenv/versions/3.10.6/envs/stockify_env/lib/python3.10/site-packages (from requests>=2.31->yfinance) (3.4.1)\n",
      "Requirement already satisfied: certifi>=2017.4.17 in /home/sb/.pyenv/versions/3.10.6/envs/stockify_env/lib/python3.10/site-packages (from requests>=2.31->yfinance) (2025.1.31)\n",
      "Requirement already satisfied: urllib3<3,>=1.21.1 in /home/sb/.pyenv/versions/3.10.6/envs/stockify_env/lib/python3.10/site-packages (from requests>=2.31->yfinance) (2.3.0)\n",
      "Requirement already satisfied: idna<4,>=2.5 in /home/sb/.pyenv/versions/3.10.6/envs/stockify_env/lib/python3.10/site-packages (from requests>=2.31->yfinance) (3.10)\n",
      "Requirement already satisfied: six>=1.5 in /home/sb/.pyenv/versions/3.10.6/envs/stockify_env/lib/python3.10/site-packages (from python-dateutil>=2.8.2->pandas>=1.3.0->yfinance) (1.17.0)\n",
      "\n",
      "\u001b[1m[\u001b[0m\u001b[34;49mnotice\u001b[0m\u001b[1;39;49m]\u001b[0m\u001b[39;49m A new release of pip available: \u001b[0m\u001b[31;49m22.2.1\u001b[0m\u001b[39;49m -> \u001b[0m\u001b[32;49m25.0.1\u001b[0m\n",
      "\u001b[1m[\u001b[0m\u001b[34;49mnotice\u001b[0m\u001b[1;39;49m]\u001b[0m\u001b[39;49m To update, run: \u001b[0m\u001b[32;49mpython -m pip install --upgrade pip\u001b[0m\n"
     ]
    }
   ],
   "source": [
    "!pip install yfinance"
   ]
  },
  {
   "cell_type": "code",
   "execution_count": 3,
   "id": "27681601-fbc1-4a67-990f-c62a15e8e036",
   "metadata": {
    "scrolled": true
   },
   "outputs": [
    {
     "name": "stderr",
     "output_type": "stream",
     "text": [
      "2025-03-19 14:25:10.439706: I tensorflow/core/util/port.cc:153] oneDNN custom operations are on. You may see slightly different numerical results due to floating-point round-off errors from different computation orders. To turn them off, set the environment variable `TF_ENABLE_ONEDNN_OPTS=0`.\n",
      "2025-03-19 14:25:10.440723: I external/local_xla/xla/tsl/cuda/cudart_stub.cc:32] Could not find cuda drivers on your machine, GPU will not be used.\n",
      "2025-03-19 14:25:10.447557: I external/local_xla/xla/tsl/cuda/cudart_stub.cc:32] Could not find cuda drivers on your machine, GPU will not be used.\n",
      "2025-03-19 14:25:10.463787: E external/local_xla/xla/stream_executor/cuda/cuda_fft.cc:467] Unable to register cuFFT factory: Attempting to register factory for plugin cuFFT when one has already been registered\n",
      "WARNING: All log messages before absl::InitializeLog() is called are written to STDERR\n",
      "E0000 00:00:1742394310.489025  699724 cuda_dnn.cc:8579] Unable to register cuDNN factory: Attempting to register factory for plugin cuDNN when one has already been registered\n",
      "E0000 00:00:1742394310.496387  699724 cuda_blas.cc:1407] Unable to register cuBLAS factory: Attempting to register factory for plugin cuBLAS when one has already been registered\n",
      "W0000 00:00:1742394310.515669  699724 computation_placer.cc:177] computation placer already registered. Please check linkage and avoid linking the same target more than once.\n",
      "W0000 00:00:1742394310.515700  699724 computation_placer.cc:177] computation placer already registered. Please check linkage and avoid linking the same target more than once.\n",
      "W0000 00:00:1742394310.515704  699724 computation_placer.cc:177] computation placer already registered. Please check linkage and avoid linking the same target more than once.\n",
      "W0000 00:00:1742394310.515706  699724 computation_placer.cc:177] computation placer already registered. Please check linkage and avoid linking the same target more than once.\n",
      "2025-03-19 14:25:10.523585: I tensorflow/core/platform/cpu_feature_guard.cc:210] This TensorFlow binary is optimized to use available CPU instructions in performance-critical operations.\n",
      "To enable the following instructions: AVX2 AVX_VNNI FMA, in other operations, rebuild TensorFlow with the appropriate compiler flags.\n"
     ]
    }
   ],
   "source": [
    "from sklearn.decomposition import PCA\n",
    "import yfinance as yf\n",
    "import pandas as pd\n",
    "from datetime import datetime, timedelta\n",
    "from sklearn.preprocessing import StandardScaler,MinMaxScaler\n",
    "import seaborn as sns\n",
    "import numpy as np\n",
    "import matplotlib.pyplot as plt\n",
    "\n",
    "from sklearn.model_selection import train_test_split\n",
    "from tensorflow.keras.models import Sequential\n",
    "from tensorflow.keras.layers import LSTM, Dense, Dropout\n",
    "from tensorflow.keras.callbacks import EarlyStopping\n",
    "from tensorflow.keras.optimizers import Adam\n"
   ]
  },
  {
   "cell_type": "code",
   "execution_count": 5,
   "id": "04675ae3-446d-4b60-9b4c-1653c1edecb7",
   "metadata": {},
   "outputs": [],
   "source": [
    "import sys\n",
    "import os\n",
    "sys.path.append(os.path.abspath(\"../app\"))\n",
    "os.environ[\"GOOGLE_APPLICATION_CREDENTIALS\"] = '/home/sb/lewagon_london/project_lewagon/stock-stat-replica/data/lewagon-statistical-arbitrage-ae470f7dcd48.json'\n"
   ]
  },
  {
   "cell_type": "code",
   "execution_count": 6,
   "id": "44eb22ef-870b-4687-85ae-7e6bda02d028",
   "metadata": {},
   "outputs": [
    {
     "name": "stdout",
     "output_type": "stream",
     "text": [
      "      z_score  direction  target entry  replication entry     Day 1     Day 2  \\\n",
      "61   1.157807       -1.0       4287.50        3819.980464 -0.956881  1.223802   \n",
      "62  -0.899788        1.0       4131.93        3818.030337  1.264268  0.891492   \n",
      "63   1.236560       -1.0       4155.38        3785.029252  0.868014 -0.172168   \n",
      "64   0.396198        0.0       4175.48        3668.667829  0.138499 -1.697189   \n",
      "65   0.106092        0.0       4300.17        3746.388420 -1.741717 -1.108483   \n",
      "..        ...        ...           ...                ...       ...       ...   \n",
      "744  1.497857       -1.0       5996.66        5685.178048 -0.500626  1.391069   \n",
      "745 -0.564909        1.0       6049.24        5764.185603  1.250067 -0.048188   \n",
      "746  1.384260       -1.0       6086.37        5600.919602  0.354667 -0.829213   \n",
      "747  3.225740        0.0       6118.71        5697.252372  0.883085 -1.205069   \n",
      "748  0.912327       -1.0       6101.24        5527.789133 -1.188504       NaN   \n",
      "\n",
      "        Day 3     Day 4     Day 5     Day 6  ...    Day 24    Day 25  \\\n",
      "61   0.862308 -0.101378 -0.602839 -0.149726  ...  0.489263 -0.527456   \n",
      "62  -0.148761 -0.521243 -0.044534 -1.605484  ... -0.467824  0.031560   \n",
      "63  -0.514564 -0.085349 -1.595033 -0.510317  ... -0.008932 -0.529217   \n",
      "64  -1.087194 -2.307067  0.219825 -0.085071  ...  0.319713 -0.168034   \n",
      "65  -2.318395  0.185668 -0.118211 -0.456474  ... -0.255780 -1.182514   \n",
      "..        ...       ...       ...       ...  ...       ...       ...   \n",
      "744  0.181760 -0.720257 -0.204256       NaN  ...       NaN       NaN   \n",
      "745 -1.044874 -0.160493       NaN       NaN  ...       NaN       NaN   \n",
      "746 -0.204167       NaN       NaN       NaN  ...       NaN       NaN   \n",
      "747       NaN       NaN       NaN       NaN  ...       NaN       NaN   \n",
      "748       NaN       NaN       NaN       NaN  ...       NaN       NaN   \n",
      "\n",
      "       Day 26    Day 27    Day 28    Day 29  replication exit  target exit  \\\n",
      "61  -0.028567 -0.495037 -0.461480 -1.140937       3758.773064      4115.77   \n",
      "62  -0.495194 -0.398631 -1.130498 -1.222023       3787.422778      4017.82   \n",
      "63  -0.430189 -1.156912 -1.249292 -1.731729       3957.992380      3900.86   \n",
      "64  -1.180787 -2.019331 -1.581052 -0.634700       4025.344989      3749.63   \n",
      "65  -2.053525 -1.636274 -0.640602  1.105078       4058.470156      3735.48   \n",
      "..        ...       ...       ...       ...               ...          ...   \n",
      "744       NaN       NaN       NaN       NaN               NaN          NaN   \n",
      "745       NaN       NaN       NaN       NaN               NaN          NaN   \n",
      "746       NaN       NaN       NaN       NaN               NaN          NaN   \n",
      "747       NaN       NaN       NaN       NaN               NaN          NaN   \n",
      "748       NaN       NaN       NaN       NaN               NaN          NaN   \n",
      "\n",
      "     target return  replication return  \n",
      "61       -0.040878           -0.016153  \n",
      "62       -0.028005           -0.008049  \n",
      "63       -0.063207            0.044683  \n",
      "64       -0.107572            0.092782  \n",
      "65       -0.140778            0.080014  \n",
      "..             ...                 ...  \n",
      "744            NaN                 NaN  \n",
      "745            NaN                 NaN  \n",
      "746            NaN                 NaN  \n",
      "747            NaN                 NaN  \n",
      "748            NaN                 NaN  \n",
      "\n",
      "[688 rows x 37 columns]\n",
      "data processed\n"
     ]
    },
    {
     "ename": "KeyError",
     "evalue": "'Trading Day 1'",
     "output_type": "error",
     "traceback": [
      "\u001b[0;31m---------------------------------------------------------------------------\u001b[0m",
      "\u001b[0;31mKeyError\u001b[0m                                  Traceback (most recent call last)",
      "File \u001b[0;32m~/.pyenv/versions/3.10.6/envs/stockify_env/lib/python3.10/site-packages/pandas/core/indexes/base.py:3805\u001b[0m, in \u001b[0;36mIndex.get_loc\u001b[0;34m(self, key)\u001b[0m\n\u001b[1;32m   3804\u001b[0m \u001b[38;5;28;01mtry\u001b[39;00m:\n\u001b[0;32m-> 3805\u001b[0m     \u001b[38;5;28;01mreturn\u001b[39;00m \u001b[38;5;28;43mself\u001b[39;49m\u001b[38;5;241;43m.\u001b[39;49m\u001b[43m_engine\u001b[49m\u001b[38;5;241;43m.\u001b[39;49m\u001b[43mget_loc\u001b[49m\u001b[43m(\u001b[49m\u001b[43mcasted_key\u001b[49m\u001b[43m)\u001b[49m\n\u001b[1;32m   3806\u001b[0m \u001b[38;5;28;01mexcept\u001b[39;00m \u001b[38;5;167;01mKeyError\u001b[39;00m \u001b[38;5;28;01mas\u001b[39;00m err:\n",
      "File \u001b[0;32mindex.pyx:167\u001b[0m, in \u001b[0;36mpandas._libs.index.IndexEngine.get_loc\u001b[0;34m()\u001b[0m\n",
      "File \u001b[0;32mindex.pyx:196\u001b[0m, in \u001b[0;36mpandas._libs.index.IndexEngine.get_loc\u001b[0;34m()\u001b[0m\n",
      "File \u001b[0;32mpandas/_libs/hashtable_class_helper.pxi:7081\u001b[0m, in \u001b[0;36mpandas._libs.hashtable.PyObjectHashTable.get_item\u001b[0;34m()\u001b[0m\n",
      "File \u001b[0;32mpandas/_libs/hashtable_class_helper.pxi:7089\u001b[0m, in \u001b[0;36mpandas._libs.hashtable.PyObjectHashTable.get_item\u001b[0;34m()\u001b[0m\n",
      "\u001b[0;31mKeyError\u001b[0m: 'Trading Day 1'",
      "\nThe above exception was the direct cause of the following exception:\n",
      "\u001b[0;31mKeyError\u001b[0m                                  Traceback (most recent call last)",
      "Cell \u001b[0;32mIn[6], line 2\u001b[0m\n\u001b[1;32m      1\u001b[0m \u001b[38;5;28;01mfrom\u001b[39;00m\u001b[38;5;250m \u001b[39m\u001b[38;5;21;01mmain\u001b[39;00m\u001b[38;5;250m \u001b[39m\u001b[38;5;28;01mimport\u001b[39;00m compute_bt_result\n\u001b[0;32m----> 2\u001b[0m \u001b[38;5;28mprint\u001b[39m(\u001b[43mcompute_bt_result\u001b[49m\u001b[43m(\u001b[49m\u001b[38;5;241;43m30\u001b[39;49m\u001b[43m,\u001b[49m\u001b[38;5;241;43m30\u001b[39;49m\u001b[43m,\u001b[49m\u001b[38;5;241;43m30\u001b[39;49m\u001b[43m,\u001b[49m\u001b[38;5;241;43m30\u001b[39;49m\u001b[43m,\u001b[49m\u001b[38;5;241;43m4\u001b[39;49m\u001b[43m,\u001b[49m\u001b[43m[\u001b[49m\u001b[38;5;241;43m0.5\u001b[39;49m\u001b[43m,\u001b[49m\u001b[43m \u001b[49m\u001b[38;5;241;43m2\u001b[39;49m\u001b[43m,\u001b[49m\u001b[43m \u001b[49m\u001b[38;5;241;43m-\u001b[39;49m\u001b[38;5;241;43m0.5\u001b[39;49m\u001b[43m,\u001b[49m\u001b[43m \u001b[49m\u001b[38;5;241;43m-\u001b[39;49m\u001b[38;5;241;43m2\u001b[39;49m\u001b[43m]\u001b[49m\u001b[43m,\u001b[49m\u001b[38;5;124;43m'\u001b[39;49m\u001b[38;5;124;43mSP500\u001b[39;49m\u001b[38;5;124;43m'\u001b[39;49m\u001b[43m)\u001b[49m)\n",
      "File \u001b[0;32m~/lewagon_london/project_lewagon/stock-stat-replica/app/main.py:93\u001b[0m, in \u001b[0;36mcompute_bt_result\u001b[0;34m(cal_days, trade_days, n_stocks, window, n_pcs, thresholds, index_selected)\u001b[0m\n\u001b[1;32m     90\u001b[0m \u001b[38;5;28mprint\u001b[39m(\u001b[38;5;124m'\u001b[39m\u001b[38;5;124mdata processed\u001b[39m\u001b[38;5;124m'\u001b[39m)\n\u001b[1;32m     91\u001b[0m rep_pf \u001b[38;5;241m=\u001b[39m rolling_pca_weights(processed_df, n_stocks, window, n_pcs)\n\u001b[0;32m---> 93\u001b[0m bt_result \u001b[38;5;241m=\u001b[39m \u001b[43mz_score_trading\u001b[49m\u001b[43m(\u001b[49m\u001b[43mrep_pf\u001b[49m\u001b[43m,\u001b[49m\u001b[43m \u001b[49m\u001b[43munderlying_df\u001b[49m\u001b[43m,\u001b[49m\u001b[43m \u001b[49m\u001b[43mtarget_df\u001b[49m\u001b[43m,\u001b[49m\u001b[43m \u001b[49m\u001b[43mcal_days\u001b[49m\u001b[43m,\u001b[49m\u001b[43m \u001b[49m\u001b[43mtrade_days\u001b[49m\u001b[43m,\u001b[49m\u001b[43m \u001b[49m\u001b[43mthresholds\u001b[49m\u001b[43m,\u001b[49m\u001b[43m \u001b[49m\u001b[43mdynamic\u001b[49m\u001b[38;5;241;43m=\u001b[39;49m\u001b[38;5;28;43;01mTrue\u001b[39;49;00m\u001b[43m)\u001b[49m\n\u001b[1;32m     94\u001b[0m \u001b[38;5;28mprint\u001b[39m(\u001b[38;5;124m'\u001b[39m\u001b[38;5;124mrec\u001b[39m\u001b[38;5;124m'\u001b[39m)\n\u001b[1;32m     95\u001b[0m \u001b[38;5;28;01mreturn\u001b[39;00m bt_result,rep_pf\n",
      "File \u001b[0;32m~/lewagon_london/project_lewagon/stock-stat-replica/app/testing.py:154\u001b[0m, in \u001b[0;36mz_score_trading\u001b[0;34m(pca_weights_df, underlying_df, target_df, cal_days, trade_days, thresholds, dynamic)\u001b[0m\n\u001b[1;32m    152\u001b[0m \u001b[38;5;28;01mif\u001b[39;00m row[\u001b[38;5;124m'\u001b[39m\u001b[38;5;124mdirection\u001b[39m\u001b[38;5;124m'\u001b[39m]\u001b[38;5;241m==\u001b[39m\u001b[38;5;241m1\u001b[39m:\n\u001b[1;32m    153\u001b[0m     \u001b[38;5;28;01mfor\u001b[39;00m day \u001b[38;5;129;01min\u001b[39;00m \u001b[38;5;28mrange\u001b[39m(\u001b[38;5;241m1\u001b[39m, trade_days\u001b[38;5;241m-\u001b[39m\u001b[38;5;241m1\u001b[39m):\n\u001b[0;32m--> 154\u001b[0m         \u001b[38;5;28;01mif\u001b[39;00m \u001b[43mrow\u001b[49m\u001b[43m[\u001b[49m\u001b[38;5;124;43mf\u001b[39;49m\u001b[38;5;124;43m'\u001b[39;49m\u001b[38;5;124;43mTrading Day \u001b[39;49m\u001b[38;5;132;43;01m{\u001b[39;49;00m\u001b[43mday\u001b[49m\u001b[38;5;132;43;01m}\u001b[39;49;00m\u001b[38;5;124;43m'\u001b[39;49m\u001b[43m]\u001b[49m \u001b[38;5;241m>\u001b[39m exit_threshold:\n\u001b[1;32m    155\u001b[0m             exit_day\u001b[38;5;241m=\u001b[39mday\n\u001b[1;32m    156\u001b[0m             \u001b[38;5;28;01mbreak\u001b[39;00m\n",
      "File \u001b[0;32m~/.pyenv/versions/3.10.6/envs/stockify_env/lib/python3.10/site-packages/pandas/core/series.py:1121\u001b[0m, in \u001b[0;36mSeries.__getitem__\u001b[0;34m(self, key)\u001b[0m\n\u001b[1;32m   1118\u001b[0m     \u001b[38;5;28;01mreturn\u001b[39;00m \u001b[38;5;28mself\u001b[39m\u001b[38;5;241m.\u001b[39m_values[key]\n\u001b[1;32m   1120\u001b[0m \u001b[38;5;28;01melif\u001b[39;00m key_is_scalar:\n\u001b[0;32m-> 1121\u001b[0m     \u001b[38;5;28;01mreturn\u001b[39;00m \u001b[38;5;28;43mself\u001b[39;49m\u001b[38;5;241;43m.\u001b[39;49m\u001b[43m_get_value\u001b[49m\u001b[43m(\u001b[49m\u001b[43mkey\u001b[49m\u001b[43m)\u001b[49m\n\u001b[1;32m   1123\u001b[0m \u001b[38;5;66;03m# Convert generator to list before going through hashable part\u001b[39;00m\n\u001b[1;32m   1124\u001b[0m \u001b[38;5;66;03m# (We will iterate through the generator there to check for slices)\u001b[39;00m\n\u001b[1;32m   1125\u001b[0m \u001b[38;5;28;01mif\u001b[39;00m is_iterator(key):\n",
      "File \u001b[0;32m~/.pyenv/versions/3.10.6/envs/stockify_env/lib/python3.10/site-packages/pandas/core/series.py:1237\u001b[0m, in \u001b[0;36mSeries._get_value\u001b[0;34m(self, label, takeable)\u001b[0m\n\u001b[1;32m   1234\u001b[0m     \u001b[38;5;28;01mreturn\u001b[39;00m \u001b[38;5;28mself\u001b[39m\u001b[38;5;241m.\u001b[39m_values[label]\n\u001b[1;32m   1236\u001b[0m \u001b[38;5;66;03m# Similar to Index.get_value, but we do not fall back to positional\u001b[39;00m\n\u001b[0;32m-> 1237\u001b[0m loc \u001b[38;5;241m=\u001b[39m \u001b[38;5;28;43mself\u001b[39;49m\u001b[38;5;241;43m.\u001b[39;49m\u001b[43mindex\u001b[49m\u001b[38;5;241;43m.\u001b[39;49m\u001b[43mget_loc\u001b[49m\u001b[43m(\u001b[49m\u001b[43mlabel\u001b[49m\u001b[43m)\u001b[49m\n\u001b[1;32m   1239\u001b[0m \u001b[38;5;28;01mif\u001b[39;00m is_integer(loc):\n\u001b[1;32m   1240\u001b[0m     \u001b[38;5;28;01mreturn\u001b[39;00m \u001b[38;5;28mself\u001b[39m\u001b[38;5;241m.\u001b[39m_values[loc]\n",
      "File \u001b[0;32m~/.pyenv/versions/3.10.6/envs/stockify_env/lib/python3.10/site-packages/pandas/core/indexes/base.py:3812\u001b[0m, in \u001b[0;36mIndex.get_loc\u001b[0;34m(self, key)\u001b[0m\n\u001b[1;32m   3807\u001b[0m     \u001b[38;5;28;01mif\u001b[39;00m \u001b[38;5;28misinstance\u001b[39m(casted_key, \u001b[38;5;28mslice\u001b[39m) \u001b[38;5;129;01mor\u001b[39;00m (\n\u001b[1;32m   3808\u001b[0m         \u001b[38;5;28misinstance\u001b[39m(casted_key, abc\u001b[38;5;241m.\u001b[39mIterable)\n\u001b[1;32m   3809\u001b[0m         \u001b[38;5;129;01mand\u001b[39;00m \u001b[38;5;28many\u001b[39m(\u001b[38;5;28misinstance\u001b[39m(x, \u001b[38;5;28mslice\u001b[39m) \u001b[38;5;28;01mfor\u001b[39;00m x \u001b[38;5;129;01min\u001b[39;00m casted_key)\n\u001b[1;32m   3810\u001b[0m     ):\n\u001b[1;32m   3811\u001b[0m         \u001b[38;5;28;01mraise\u001b[39;00m InvalidIndexError(key)\n\u001b[0;32m-> 3812\u001b[0m     \u001b[38;5;28;01mraise\u001b[39;00m \u001b[38;5;167;01mKeyError\u001b[39;00m(key) \u001b[38;5;28;01mfrom\u001b[39;00m\u001b[38;5;250m \u001b[39m\u001b[38;5;21;01merr\u001b[39;00m\n\u001b[1;32m   3813\u001b[0m \u001b[38;5;28;01mexcept\u001b[39;00m \u001b[38;5;167;01mTypeError\u001b[39;00m:\n\u001b[1;32m   3814\u001b[0m     \u001b[38;5;66;03m# If we have a listlike key, _check_indexing_error will raise\u001b[39;00m\n\u001b[1;32m   3815\u001b[0m     \u001b[38;5;66;03m#  InvalidIndexError. Otherwise we fall through and re-raise\u001b[39;00m\n\u001b[1;32m   3816\u001b[0m     \u001b[38;5;66;03m#  the TypeError.\u001b[39;00m\n\u001b[1;32m   3817\u001b[0m     \u001b[38;5;28mself\u001b[39m\u001b[38;5;241m.\u001b[39m_check_indexing_error(key)\n",
      "\u001b[0;31mKeyError\u001b[0m: 'Trading Day 1'"
     ]
    }
   ],
   "source": [
    "from main import compute_bt_result\n",
    "\n",
    "print()\n"
   ]
  },
  {
   "cell_type": "code",
   "execution_count": null,
   "id": "d7262d5e",
   "metadata": {},
   "outputs": [],
   "source": [
    "# SPREAD CODE:\n",
    "\n",
    "pca_date = '2024-12-01'\n",
    "\n",
    "# Filter stocks with values > 0 on the specific date\n",
    "filtered_columns = daily_weights_df.loc[pca_date][daily_weights_df.loc[pca_date] > 0].index\n",
    "# replication pf weights taken from output function\n",
    "rep_pf = daily_weights_df.loc[[pca_date], filtered_columns]\n",
    "\n",
    "# log returns of rep pf\n",
    "rep_pf_log_returns_daily = log_returns[rep_pf.columns]\n",
    "\n",
    "# log return times weights (results)\n",
    "rep_pf_results = rep_pf_log_returns_daily.mul(rep_pf.iloc[0], axis=1)\n",
    "rep_pf_results[\"total_rep_pf\"] = rep_pf_results.sum(axis=1)\n",
    "rep_pf_results\n",
    "\n",
    "# Calculate log returns FTSE100 / Index    \n",
    "FTSE_log_return = np.log(df[\"FTSE100\"] / df[\"FTSE100\"].shift(1)).dropna()\n",
    "FTSE_log_return\n",
    "\n",
    "# DF of spread\n",
    "spread_df = pd.DataFrame()  # Create a new DataFrame for the spread\n",
    "spread_df[\"spread\"] = FTSE_log_return - rep_pf_results[\"total_rep_pf\"]  # Add a column named \"spread\"\n",
    "training_spread_df = spread_df.loc[:pca_date].iloc[:-1]  # Data up to the PCA date, excluding the date itself"
   ]
  }
 ],
 "metadata": {
  "kernelspec": {
   "display_name": "Python 3 (ipykernel)",
   "language": "python",
   "name": "python3"
  },
  "language_info": {
   "codemirror_mode": {
    "name": "ipython",
    "version": 3
   },
   "file_extension": ".py",
   "mimetype": "text/x-python",
   "name": "python",
   "nbconvert_exporter": "python",
   "pygments_lexer": "ipython3",
   "version": "3.10.6"
  },
  "toc": {
   "base_numbering": 1,
   "nav_menu": {},
   "number_sections": true,
   "sideBar": true,
   "skip_h1_title": false,
   "title_cell": "Table of Contents",
   "title_sidebar": "Contents",
   "toc_cell": false,
   "toc_position": {},
   "toc_section_display": true,
   "toc_window_display": false
  },
  "widgets": {
   "application/vnd.jupyter.widget-state+json": {
    "state": {},
    "version_major": 2,
    "version_minor": 0
   }
  }
 },
 "nbformat": 4,
 "nbformat_minor": 5
}
